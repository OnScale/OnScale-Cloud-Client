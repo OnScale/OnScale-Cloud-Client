{
 "metadata": {
  "language_info": {
   "codemirror_mode": {
    "name": "ipython",
    "version": 3
   },
   "file_extension": ".py",
   "mimetype": "text/x-python",
   "name": "python",
   "nbconvert_exporter": "python",
   "pygments_lexer": "ipython3",
   "version": "3.7.7-final"
  },
  "orig_nbformat": 2,
  "kernelspec": {
   "name": "python37764bitdevcondaeee58262b74b41f9a403639b4294fd2d",
   "display_name": "Python 3.7.7 64-bit ('dev': conda)"
  }
 },
 "nbformat": 4,
 "nbformat_minor": 2,
 "cells": [
  {
   "cell_type": "code",
   "execution_count": 1,
   "metadata": {
    "tags": []
   },
   "outputs": [
    {
     "output_type": "stream",
     "name": "stdout",
     "text": "* Logged in to OnScale platform using account - OnScale UK\n"
    }
   ],
   "source": [
    "import onscale_client as cloud\n",
    "\n",
    "client = cloud.Client()"
   ]
  },
  {
   "cell_type": "markdown",
   "metadata": {},
   "source": [
    "# Account Functionality\n"
   ]
  },
  {
   "cell_type": "markdown",
   "metadata": {},
   "source": [
    "A logged in user can view the current account details using some of the built in client properties for account details."
   ]
  },
  {
   "cell_type": "code",
   "execution_count": 2,
   "metadata": {
    "tags": []
   },
   "outputs": [
    {
     "output_type": "stream",
     "name": "stdout",
     "text": "account name : OnScale UK\naccount ID : af6c99cc-d9f9-46c3-9b99-97c7b477f9d8\n"
    }
   ],
   "source": [
    "print(f'account name : {client.current_account_name}')\n",
    "print(f'account ID : {client.current_account_id}')"
   ]
  },
  {
   "cell_type": "markdown",
   "metadata": {},
   "source": [
    "It is possible for a user to switch accounts once logged in. To see the available accounts the user can request a list of 'account_names'."
   ]
  },
  {
   "cell_type": "code",
   "execution_count": 3,
   "metadata": {
    "tags": []
   },
   "outputs": [
    {
     "output_type": "stream",
     "name": "stdout",
     "text": "['OnScale Original', 'OnScale UK', 'OnScale Small Account', 'Jonathan OnScale']\n"
    }
   ],
   "source": [
    "account_names = client.account_names()\n",
    "print(account_names)\n"
   ]
  },
  {
   "cell_type": "markdown",
   "metadata": {},
   "source": [
    "It's then possible to use those account names to set the current account to another selected account using the names available."
   ]
  },
  {
   "cell_type": "code",
   "execution_count": 4,
   "metadata": {
    "tags": []
   },
   "outputs": [
    {
     "output_type": "stream",
     "name": "stdout",
     "text": "account name : OnScale Original\naccount ID : 0952e70b-277a-4cfb-a207-b5da0f07cd70\n"
    }
   ],
   "source": [
    "client.set_current_account(account_name=account_names[0])\n",
    "print(f'account name : {client.current_account_name}')\n",
    "print(f'account ID : {client.current_account_id}')"
   ]
  },
  {
   "cell_type": "markdown",
   "metadata": {},
   "source": [
    "The same procedure can be carried out using the account ID's. The logged in user can request the account ID's from the client."
   ]
  },
  {
   "cell_type": "code",
   "execution_count": 5,
   "metadata": {
    "tags": []
   },
   "outputs": [
    {
     "output_type": "stream",
     "name": "stdout",
     "text": "['0952e70b-277a-4cfb-a207-b5da0f07cd70', 'af6c99cc-d9f9-46c3-9b99-97c7b477f9d8', '402b9222-3bc5-4852-b7f4-e113245c9e1b', '70f483be-1f7e-4543-8afb-38d9db5b7e0b']\n"
    }
   ],
   "source": [
    "account_ids = client.account_ids()\n",
    "print(client.account_ids())\n"
   ]
  },
  {
   "cell_type": "markdown",
   "metadata": {},
   "source": [
    "And then set the current account using the id's from the list."
   ]
  },
  {
   "cell_type": "code",
   "execution_count": 6,
   "metadata": {
    "tags": []
   },
   "outputs": [
    {
     "output_type": "stream",
     "name": "stdout",
     "text": "OnScale UK\naf6c99cc-d9f9-46c3-9b99-97c7b477f9d8\n"
    }
   ],
   "source": [
    "client.set_current_account(account_id=account_ids[1])\n",
    "print(client.current_account_name)\n",
    "print(client.current_account_id)"
   ]
  },
  {
   "cell_type": "markdown",
   "metadata": {},
   "source": [
    "Alternatively, a user can work directly with the account objects. It is possible to request a list of the account objects that are available to a user using the `account_list` property. \n",
    "The account_list is stored as a dictionary which can be iterated over, or the account_name can be used as the key to access accounts."
   ]
  },
  {
   "cell_type": "code",
   "execution_count": 7,
   "metadata": {
    "tags": []
   },
   "outputs": [
    {
     "output_type": "stream",
     "name": "stdout",
     "text": "OnScale UK : <onscale_client.account.Account object at 0x7ffa5365cc50>\n"
    }
   ],
   "source": [
    "accounts = client.account_list\n",
    "account = accounts[client.current_account_name]\n",
    "print(f'{client.current_account_name} : {account}')\n"
   ]
  },
  {
   "cell_type": "markdown",
   "metadata": {},
   "source": [
    "The client also holds information relating to the available HPC's for a user.  A user can run simulations on various cloud platforms and even in various regions, depending upon what has been set as available by their account administrator.\n",
    "There are a number of functions available to view the available HPC platforms.\n",
    "The `available_hpc_clouds` and `available_hpc_regions` functions will return the requested data for the curent logged in account."
   ]
  },
  {
   "cell_type": "code",
   "execution_count": 8,
   "metadata": {
    "tags": []
   },
   "outputs": [
    {
     "output_type": "stream",
     "name": "stdout",
     "text": "{'AWS', 'GCP'}\n{'ap-northeast-1', 'us-east-1', 'us-central1'}\n"
    }
   ],
   "source": [
    "print(client.available_hpc_clouds())\n",
    "print(client.available_hpc_regions())\n"
   ]
  },
  {
   "cell_type": "markdown",
   "metadata": {},
   "source": [
    "It is also possible for a user to get a list of HPC objects which can then allow a user to get HPC data from those objects."
   ]
  },
  {
   "cell_type": "code",
   "execution_count": 9,
   "metadata": {
    "tags": []
   },
   "outputs": [
    {
     "output_type": "stream",
     "name": "stdout",
     "text": "prod-hpc-us-central1-c : hpc_id='ae2d6b69-d78a-40c4-a21b-35ae8a470043' hpc_active=True hpc_cloud='GCP' hpc_cluster_name='prod-hpc-us-central1-c' hpc_description='GCP Prod Cluster' hpc_region='us-central1' hpc_account_bucket='onscale-uscentral1'\nprod-hpc-east : hpc_id='c7a4d256-d4ec-46b6-8350-ac06f0362916' hpc_active=True hpc_cloud='AWS' hpc_cluster_name='prod-hpc-east' hpc_description='PROD cluster' hpc_region='us-east-1' hpc_account_bucket='onscale-useast1'\ndev-hpc-us-central1-f : hpc_id='e8bbc9e2-9d0b-42d8-9b98-819b5b2a3435' hpc_active=True hpc_cloud='GCP' hpc_cluster_name='dev-hpc-us-central1-f' hpc_description='GCP Dev Cluster' hpc_region='us-central1' hpc_account_bucket='onscale-uscentral1'\ndev-hpc-east : hpc_id='0f778276-7f91-4b03-99a1-4a88e4002dca' hpc_active=True hpc_cloud='AWS' hpc_cluster_name='dev-hpc-east' hpc_description='BETA/DEV cluster' hpc_region='us-east-1' hpc_account_bucket='onscale-useast1'\nprod-hpc-japan-1 : hpc_id='b7af96fc-dbf7-423d-b35f-a5ed5d773267' hpc_active=True hpc_cloud='AWS' hpc_cluster_name='prod-hpc-japan-1' hpc_description='HPC - Tokyo 1' hpc_region='ap-northeast-1' hpc_account_bucket='onscale-apnortheast1'\n"
    }
   ],
   "source": [
    "hpc_list = client.get_hpc_list(client.current_account_id)\n",
    "for hpc in hpc_list:\n",
    "    print(f\"{hpc.hpc_cluster_name} : {hpc}\")"
   ]
  },
  {
   "cell_type": "code",
   "execution_count": null,
   "metadata": {},
   "outputs": [],
   "source": []
  }
 ]
}