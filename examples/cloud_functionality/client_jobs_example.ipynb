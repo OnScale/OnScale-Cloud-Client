{
 "metadata": {
  "language_info": {
   "codemirror_mode": {
    "name": "ipython",
    "version": 3
   },
   "file_extension": ".py",
   "mimetype": "text/x-python",
   "name": "python",
   "nbconvert_exporter": "python",
   "pygments_lexer": "ipython3",
   "version": "3.7.7-final"
  },
  "orig_nbformat": 2,
  "kernelspec": {
   "name": "python37764bitdevcondaeee58262b74b41f9a403639b4294fd2d",
   "display_name": "Python 3.7.7 64-bit ('dev': conda)"
  }
 },
 "nbformat": 4,
 "nbformat_minor": 2,
 "cells": [
  {
   "cell_type": "markdown",
   "metadata": {},
   "source": [
    "# Job Functionality\n",
    "\n",
    "A logged in user can get specific information from specific jobs using job functionality found within the job object."
   ]
  },
  {
   "cell_type": "code",
   "execution_count": 1,
   "metadata": {
    "tags": []
   },
   "outputs": [
    {
     "output_type": "stream",
     "name": "stdout",
     "text": "* Logged in to OnScale platform using account - OnScale UK\n"
    }
   ],
   "source": [
    "import onscale_client as cloud\n",
    "client = cloud.Client()"
   ]
  },
  {
   "cell_type": "markdown",
   "metadata": {},
   "source": [
    "A user can request the job history for the logged in account using the get_job_history() function. This can be specified without a job_count to return all job history, or with a job count to give details for the last N jobs.  The returned data is in a format that allows a quick return of details which can be used by the user to make further calls or have specific information displayed."
   ]
  },
  {
   "cell_type": "code",
   "execution_count": 20,
   "metadata": {
    "tags": []
   },
   "outputs": [
    {
     "output_type": "stream",
     "name": "stdout",
     "text": "20200918-164310 - 58a69a22-373d-41e6-9c71-49c45189d0a6 - my_simulation\n20200918-141435 - 634610f8-b663-4328-84ba-538fd9914897 - my_simulation\n20200918-102526 - fd5b02eb-d8e6-46f7-85c9-5a1633f6ab47 - Mechanical Study 1\n20200917-200506 - 45e9693f-d834-47c3-a480-774a7192b51f - outlet_test-200501-170920\n20200917-175411 - 10d153ab-13b1-44e1-b15d-97040aa84a56 - moebius-job-175356-170920\n"
    }
   ],
   "source": [
    "job_history = client.get_job_history(job_count=10)\n",
    "\n",
    "from datetime import datetime\n",
    "\n",
    "# display the job info in a nice ordered format\n",
    "for job in job_history:\n",
    "    if job['created'] is not None:\n",
    "        created = datetime.fromtimestamp(job['created']/1000).strftime(\"%Y%m%d-%H%M%S\")\n",
    "        print(created + ' - ' + job['job_id'] + \" - \" + job['job_name'])"
   ]
  },
  {
   "cell_type": "markdown",
   "metadata": {},
   "source": [
    "If required, a user can request the job objects for a specific account using the get_job_list() call. This has the same job_count argument and will work in the same way, by requesting the last N jobs as specifed by job_count.\n",
    "Please note, calling get_job_list will take a considerably longer amount of time as it is required to instantiate the job objects for use by the client."
   ]
  },
  {
   "cell_type": "markdown",
   "metadata": {},
   "source": []
  },
  {
   "cell_type": "code",
   "execution_count": 3,
   "metadata": {
    "tags": []
   },
   "outputs": [
    {
     "output_type": "stream",
     "name": "stdout",
     "text": "> Instantiated job my_simulation \n> Instantiated job None \n> Instantiated job my_simulation \n"
    }
   ],
   "source": [
    "job_list = client.get_job_list(job_count=3)"
   ]
  },
  {
   "cell_type": "markdown",
   "metadata": {},
   "source": [
    "Rather than requesting a list of jobs, it may be adequate to request a specific job using the job_id if this is known.  This can be done by calling get_job() and passing the job_id as a parameter."
   ]
  },
  {
   "cell_type": "code",
   "execution_count": 4,
   "metadata": {
    "tags": []
   },
   "outputs": [
    {
     "output_type": "stream",
     "name": "stdout",
     "text": "> Instantiated job my_simulation \n"
    }
   ],
   "source": [
    "job = client.get_job(job_list[2].job_id)"
   ]
  },
  {
   "cell_type": "markdown",
   "metadata": {},
   "source": [
    "Alternatively, it may be suitable for a user to request the last job which has been created. This can be done by calling get_last_job, which then doesnt require the user to know the job_id. "
   ]
  },
  {
   "cell_type": "code",
   "execution_count": 5,
   "metadata": {
    "tags": []
   },
   "outputs": [
    {
     "output_type": "stream",
     "name": "stdout",
     "text": "> Instantiated job my_simulation \n"
    }
   ],
   "source": [
    "last_job = client.get_last_job()"
   ]
  },
  {
   "source": [
    "Once a job has been instantiated, specific job information can be aquired via the job atributes or various operations are available for a user to perform for this specific job.  The most common operation that a user may want to perform, would be to download files relating to this job. This could be the input file or results."
   ],
   "cell_type": "markdown",
   "metadata": {
    "tags": []
   }
  },
  {
   "cell_type": "code",
   "execution_count": null,
   "metadata": {},
   "outputs": [],
   "source": []
  }
 ]
}