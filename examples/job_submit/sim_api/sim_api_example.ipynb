{
 "metadata": {
  "language_info": {
   "codemirror_mode": {
    "name": "ipython",
    "version": 3
   },
   "file_extension": ".py",
   "mimetype": "text/x-python",
   "name": "python",
   "nbconvert_exporter": "python",
   "pygments_lexer": "ipython3",
   "version": "3.7.7-final"
  },
  "orig_nbformat": 2,
  "kernelspec": {
   "name": "python37764bitdevcondaeee58262b74b41f9a403639b4294fd2d",
   "display_name": "Python 3.7.7 64-bit ('dev': conda)"
  }
 },
 "nbformat": 4,
 "nbformat_minor": 2,
 "cells": [
  {
   "cell_type": "markdown",
   "metadata": {},
   "source": [
    "1. Firstly Import the onscale module. The onscale module allows the creation of models using OnScale's SimAPI. SimAPI is used to describe a model which can be ran as a simulation on the OnScale cloud platform."
   ]
  },
  {
   "cell_type": "code",
   "execution_count": 1,
   "metadata": {},
   "outputs": [],
   "source": [
    "import onscale as on\n"
   ]
  },
  {
   "cell_type": "markdown",
   "metadata": {},
   "source": [
    "2. Define the model within the context of an onscale.Simulation object.  The Simulation object contains all of the informaton which will define the model. Within here, Geometry can be added, Materials assigned and Boundary Conditions applied."
   ]
  },
  {
   "cell_type": "code",
   "execution_count": 2,
   "metadata": {},
   "outputs": [],
   "source": [
    "with on.Simulation('Swing Arm', 'None') as sim:\n",
    "\n",
    "    # Define geometry\n",
    "    geometry = on.CadFile('swing_arm_2.step')\n",
    "\n",
    "    # Define material database and materials\n",
    "    materials = on.CloudMaterials('onscale')\n",
    "    steel = materials['steel']\n",
    "    steel >> geometry.parts[0]\n",
    "\n",
    "    # Define and apply loads\n",
    "    fixed = on.loads.Fixed()\n",
    "    fixed >> geometry.parts[0].faces[496]\n",
    "    fixed >> geometry.parts[0].faces[373]\n",
    "    force = on.loads.Force(1000, [0, 0, -1])\n",
    "    force >> geometry.parts[0].faces[340]\n",
    "    force >> geometry.parts[0].faces[191]\n",
    "\n",
    "    # Define meshing\n",
    "    on.meshes.BasicMedium()\n",
    "\n",
    "    # Define output variables\n",
    "    on.fields.Displacement()\n",
    "    on.fields.Stress()\n",
    "    on.fields.Strain()"
   ]
  },
  {
   "cell_type": "markdown",
   "metadata": {},
   "source": [
    "3. Import the onscale_client module to allow the models to be submitted to the cloud.  "
   ]
  },
  {
   "cell_type": "code",
   "execution_count": 3,
   "metadata": {},
   "outputs": [],
   "source": [
    "import onscale_client as cloud"
   ]
  },
  {
   "cell_type": "markdown",
   "metadata": {},
   "source": [
    "4. Create a Client object to communicate with the OnScale cloud platform"
   ]
  },
  {
   "cell_type": "code",
   "execution_count": 4,
   "metadata": {
    "tags": []
   },
   "outputs": [
    {
     "output_type": "stream",
     "name": "stdout",
     "text": "* Logged in to OnScale platform using account - OnScale UK\n"
    }
   ],
   "source": [
    "client = cloud.Client()"
   ]
  },
  {
   "cell_type": "markdown",
   "metadata": {},
   "source": [
    "5. Submit the simulation previously defined to the cloud."
   ]
  },
  {
   "cell_type": "code",
   "execution_count": 5,
   "metadata": {
    "tags": []
   },
   "outputs": [
    {
     "output_type": "stream",
     "name": "stdout",
     "text": "* Submitting Simulation \n> Generated my_simulation - id : 58a69a22-373d-41e6-9c71-49c45189d0a6\n> my_simulation successfully created - id : 58a69a22-373d-41e6-9c71-49c45189d0a6\nblob file swing_arm_2.step successfully uploaded\nblob id : 933d7162-8152-4ac7-8bd5-aef71559aea2\nblob file simulation.py successfully uploaded\nblob id : 2899de15-0517-4622-80ea-0db8aba56603\nblob file simulationMetadata.json successfully uploaded\nblob id : 131a8f03-d903-41ca-84cd-20802d0e2345\n\n* Estimating my_simulation\n> Estimate completed successfully\n\n* Estimate Details \n-----------  -------------\nRAM          1264\nCores           1\nCH Estimate     0.00611111\n-----------  -------------\n* my_simulation successfully submitted\n> job id : 58a69a22-373d-41e6-9c71-49c45189d0a6\n"
    }
   ],
   "source": [
    "new_job = client.submit(input_obj=sim, \n",
    "                        max_spend=5,\n",
    "                        job_name=\"my_simulation\")\n"
   ]
  },
  {
   "cell_type": "markdown",
   "metadata": {},
   "source": [
    "6. Poll job status until the job is finished"
   ]
  },
  {
   "cell_type": "code",
   "execution_count": 6,
   "metadata": {
    "tags": []
   },
   "outputs": [
    {
     "output_type": "stream",
     "name": "stdout",
     "text": "Current Status: [QUEUED]"
    }
   ],
   "source": [
    "status_str = new_job.status()\n",
    "while status_str != 'FINISHED':\n",
    "    print('\\rCurrent Status: [%s]' % status_str, end='')    \n",
    "    status_str = new_job.status()"
   ]
  },
  {
   "cell_type": "markdown",
   "metadata": {},
   "source": [
    "7. Download results once the job is complete"
   ]
  },
  {
   "cell_type": "code",
   "execution_count": 7,
   "metadata": {
    "tags": []
   },
   "outputs": [],
   "source": [
    "new_job.download_results(os.path.join(os.getcwd(), 'results'))\n"
   ]
  }
 ]
}